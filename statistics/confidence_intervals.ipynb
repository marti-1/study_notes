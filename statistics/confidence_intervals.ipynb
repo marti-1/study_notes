{
 "cells": [
  {
   "cell_type": "markdown",
   "metadata": {},
   "source": [
    "## Confidence intervals\n",
    "\n",
    "Suppose you have three numbers: a, b and c. Then, \"b is within c of a\" means the same as \"a is within c of b\". Both of those statements are equivalent to \"the absolute value of the difference between a and b is less than c\".\n",
    "\n",
    "If $\\sigma$ If somebody is $2\\sigma$ away from you, what is a prob that you are $2\\sigma$ away from them? => ~95%.\n",
    "\n",
    "The above also means that there is a 95% prob. that $p$ is within $2\\sigma_{\\hat{p}}$ of $\\hat{p}$."
   ]
  },
  {
   "cell_type": "code",
   "execution_count": 66,
   "metadata": {},
   "outputs": [
    {
     "data": {
      "text/plain": [
       "0.952"
      ]
     },
     "execution_count": 66,
     "metadata": {},
     "output_type": "execute_result"
    }
   ],
   "source": [
    "import numpy as np\n",
    "\n",
    "n = 30\n",
    "N = 1000\n",
    "p = .3\n",
    "polls = np.random.binomial(n, p, N)\n",
    "p_hat = polls / n\n",
    "\n",
    "# standard error\n",
    "se = np.sqrt(p_hat*(1-p_hat)/n)\n",
    "\n",
    "conf95_range = np.zeros((N, 2))\n",
    "conf95_range[:,0] = p_hat - 2*se\n",
    "conf95_range[:,1] = p_hat + 2*se\n",
    "\n",
    "p_in_range = (conf95_range[:,0] <= support) & (support <= conf95_range[:,1])\n",
    "np.sum(p_in_range)/N"
   ]
  },
  {
   "cell_type": "markdown",
   "metadata": {},
   "source": [
    "This helps with a problem like this:\n",
    "\n",
    "> How confident we are that a sample mean $\\hat{p} = .33$ (support for Donald Trump) represents actual support by whole population and we are OK with 95% of time being right and 5% time wrong.\n",
    "\n",
    "We can compute standard error of sample statistic ($\\hat{p}$) and use it as a standard deviation of sampling distribution and check for a given confidence interval (number of STDs) where would actual population statistic fall.\n",
    "\n",
    "$$\n",
    "\\text{SE} = \\sqrt{\\frac{\\hat{p}(1-\\hat{p})}{n}}\n",
    "= \\sqrt{\\frac{.33(1-.33)}{30}} = 0.086\n",
    "$$\n",
    "\n",
    "We can say that we are 95% confident that .33 of population will support Trump with SE range from 0.158 to 0.502."
   ]
  }
 ],
 "metadata": {
  "kernelspec": {
   "display_name": "Python 3",
   "language": "python",
   "name": "python3"
  },
  "language_info": {
   "codemirror_mode": {
    "name": "ipython",
    "version": 3
   },
   "file_extension": ".py",
   "mimetype": "text/x-python",
   "name": "python",
   "nbconvert_exporter": "python",
   "pygments_lexer": "ipython3",
   "version": "3.8.2"
  }
 },
 "nbformat": 4,
 "nbformat_minor": 4
}
