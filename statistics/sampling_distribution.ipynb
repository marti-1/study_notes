{
 "cells": [
  {
   "cell_type": "markdown",
   "metadata": {},
   "source": [
    "## Sampling distribution\n",
    "\n",
    "A distributon of a statistic computed on multiple samples. For instance: 100 samples that have mean computed for each."
   ]
  },
  {
   "cell_type": "code",
   "execution_count": 2,
   "metadata": {},
   "outputs": [
    {
     "data": {
      "image/png": "[encoded data removed]",
      "text/plain": [
       "<Figure size 432x288 with 1 Axes>"
      ]
     },
     "metadata": {
      "needs_background": "light"
     },
     "output_type": "display_data"
    }
   ],
   "source": [
    "import numpy as np\n",
    "import matplotlib.pyplot as plt\n",
    "\n",
    "height_std = 10\n",
    "height_mean = 175\n",
    "heights = np.random.normal(height_mean, height_std, 1000)\n",
    "samples = np.random.choice(heights, (100, 30))\n",
    "sample_mean = np.mean(samples, axis=1)\n",
    "plt.hist(sample_mean, 30)\n",
    "plt.show()"
   ]
  },
  {
   "cell_type": "code",
   "execution_count": 10,
   "metadata": {},
   "outputs": [
    {
     "data": {
      "text/plain": [
       "3.0964413898506375"
      ]
     },
     "execution_count": 10,
     "metadata": {},
     "output_type": "execute_result"
    }
   ],
   "source": [
    "np.var(sample_mean)"
   ]
  },
  {
   "cell_type": "markdown",
   "metadata": {},
   "source": [
    "## Definitions\n",
    "\n",
    "* $Y$ -- binomial variable (yes/no)\n",
    "* $X$ -- sum of $n$ independent trials of $Y$\n",
    "* $n$ -- number of trials (coin flips) in a sample\n",
    "* $N$ -- number of samples\n",
    "* $p$ -- population parameter\n",
    "* $\\hat{p}$ -- sample parameter\n",
    "* $\\mu_x = n * p$"
   ]
  },
  {
   "cell_type": "markdown",
   "metadata": {},
   "source": [
    "### Mean\n",
    "\n",
    "Given sample mean $\\hat{p_i} = X_i/n$, where $n$ is number of trials and $X_i$ is sum of \"successes\", the sampling distribution mean is:\n",
    "\n",
    "$$\n",
    "\\begin{equation}\n",
    "\\mu_{\\hat{p}} = \\frac{\\hat{p_1} + \\hat{p_2} + \\dots + \\hat{p_n}}{N} \\\\\n",
    "=  \\frac{\\frac{X_1}{n} + \\frac{X_2}{n} + \\dots + \\frac{X_n}{n}}{N} \\\\\n",
    "= \\frac{\\frac{1}{n}(X_1 + \\dots + X_n)}{N} \\\\\n",
    "= \\frac{(X_1 + \\dots + X_n)}{n*N} \\\\\n",
    "= \\frac{\\mu_X}{n} = \\frac{n*p}{n} = p\n",
    "\\end{equation}\n",
    "$$\n",
    "\n",
    "where $\\mu_X$ is the average sum of $n$ coin flips.\n",
    "\n",
    "### Variance\n",
    "\n",
    "What is the variance of $X_i/n$:\n",
    "\n",
    "$$\n",
    "\\text{Var}(\\hat{p}) = \\text{Var}(\\frac{X_i}{n}) \\\\\n",
    "= \\frac{1}{n^2} \\text{Var}(X_i) \\\\\n",
    "= \\frac{n*p*(1-p)}{n^2} \\\\\n",
    "= \\frac{p*(1-p)}{n}\n",
    "$$\n",
    "\n",
    "notice, the above operation of moving $1/n^2$ out of $\\text{Var}(\\frac{X_i}{n})$, this is just a property of variance. $p$ is used instead of $\\hat{p}$ because a process that generated $X_i$ was a Binomial process with probability $p$."
   ]
  },
  {
   "cell_type": "code",
   "execution_count": null,
   "metadata": {},
   "outputs": [],
   "source": []
  }
 ],
 "metadata": {
  "kernelspec": {
   "display_name": "Python 3",
   "language": "python",
   "name": "python3"
  },
  "language_info": {
   "codemirror_mode": {
    "name": "ipython",
    "version": 3
   },
   "file_extension": ".py",
   "mimetype": "text/x-python",
   "name": "python",
   "nbconvert_exporter": "python",
   "pygments_lexer": "ipython3",
   "version": "3.8.2"
  }
 },
 "nbformat": 4,
 "nbformat_minor": 4
}
