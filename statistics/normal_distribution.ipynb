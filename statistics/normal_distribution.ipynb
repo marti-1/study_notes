{
 "cells": [
  {
   "cell_type": "markdown",
   "metadata": {},
   "source": [
    "# Normal distribution\n",
    "\n",
    "## Normal Linear Transform Theorem\n",
    "\n",
    "$$\n",
    "\\begin{aligned}\n",
    "M_{\\alpha + \\beta N(m,a^2)} &= M_{N(foo, bar^2)} = \\left\\langle e^{tfoo+bar^2t^2/2} \\right\\rangle \\\\\n",
    "&=  \\left\\langle e^{t(\\alpha + \\beta N(m,a^2))} \\right\\rangle \\\\\n",
    "&= \\left\\langle e^{t\\alpha} e^{\\beta N(m,a^2)} \\right\\rangle \\\\\n",
    "&= e^{t\\alpha}\\left\\langle e^{\\beta N(m,a^2)} \\right\\rangle \\\\\n",
    "&= e^{t\\alpha} M_{N(m,a^2}(t\\beta) \\\\\n",
    "&= e^{t\\alpha + tm\\beta + \\frac{\\alpha^2t^2\\beta^2}{2}} \\\\\n",
    "&= e^{t(\\alpha + m\\beta) + \\frac{\\alpha^2t^2\\beta^2}{2}} \\\\\n",
    "&= N(\\alpha + \\beta m, \\alpha^2\\beta^2)\n",
    "\\end{aligned}\n",
    "$$\n",
    "\n",
    "## Normal Sum Theorem\n",
    "\n",
    "$$\n",
    "\\begin{aligned}\n",
    "N(m_1 + m_2, a_1^2 + a_2^2) &= N(m_1, a_1^2) + N(m_2, a_2^2) \\\\\n",
    "M_{X_1 + X_2} &= \\left\\langle e^{t(X_1+X_2)} \\right\\rangle \\\\\n",
    "&= \\left\\langle e^{tX_1}\\right\\rangle  \\left\\langle e^{tX_2} \\right\\rangle \\\\\n",
    "&= M_{X_1}(t)M_{X_2}(t) \\\\\n",
    "&= e^{tm_1 + \\frac{\\alpha_1^2 t^2}{2}}e^{tm_2 + \\frac{\\alpha_2^2 t^2}{2}} \\\\\n",
    "&= e^{tm_1 + \\frac{\\alpha_1^2 t^2}{2} + tm_2 +\\frac{\\alpha_2^2 t^2}{2}} \\\\\n",
    "&= e^{t(m_1 + m_2) + \\frac{t^2}{2}(\\alpha_1^2 + \\alpha_2^2)} \\\\\n",
    "&= M_N(m_1+m_2, \\alpha_1^2 + \\alpha_2^2)\n",
    "\\end{aligned}\n",
    "$$"
   ]
  }
 ],
 "metadata": {
  "kernelspec": {
   "display_name": "Python 3",
   "language": "python",
   "name": "python3"
  },
  "language_info": {
   "codemirror_mode": {
    "name": "ipython",
    "version": 3
   },
   "file_extension": ".py",
   "mimetype": "text/x-python",
   "name": "python",
   "nbconvert_exporter": "python",
   "pygments_lexer": "ipython3",
   "version": "3.8.5"
  }
 },
 "nbformat": 4,
 "nbformat_minor": 4
}
