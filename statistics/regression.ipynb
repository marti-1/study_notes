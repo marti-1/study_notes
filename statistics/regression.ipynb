{
 "cells": [
  {
   "cell_type": "markdown",
   "metadata": {},
   "source": [
    "# Regression\n",
    "\n",
    "## Linear regression\n",
    "\n",
    "$$\n",
    "Y_i = a*x_i + b + \\epsilon_i\n",
    "$$\n",
    "\n",
    "* the errors arenormally distributed and,on average,zero;\n",
    "* the errors all have the same variance(they are homoscedastic), and \n",
    "* the errors are unrelated to each other(they are independent across observations)\n",
    "\n",
    "$$\n",
    "E[\\epsilon_i] = 0 \\\\\n",
    "Var[\\epsilon_i] = \\sigma^2 = \\text{constant}\n",
    "$$\n",
    "\n",
    "When we  find  estimates  of  the  slope  and  intercept  using,  for  example Ordinary Least Squares  (OLS), we are not really making any distributional assumptions, just taking a cloud of points and finding numbers that we call a slope and an intercept that minimize a quality term like\n",
    "\n",
    "$$\n",
    "Q = \\sum (\\text{observed} - \\text{predicted})^2 \\\\\n",
    "$$\n",
    "\n",
    "**NOTE**: _intercept_ is b not the _residual_ -- $\\epsilon$.\n",
    "\n",
    "$$\n",
    "\\text{slope} = b_1 = \\frac{SS_{xy}}{SS_{xx}} = \\frac{\\sum (x_i - \\bar{x})(y_i - \\bar{y})}{\\sum (x_i - \\bar{x})(x_i - \\bar{x})} \\\\\n",
    "\\text{intercept} = b_0 = \\bar{y} - b_1*\\bar{x}\n",
    "$$"
   ]
  },
  {
   "cell_type": "code",
   "execution_count": 14,
   "metadata": {},
   "outputs": [
    {
     "data": {
      "text/html": [
       "<div>\n",
       "<style scoped>\n",
       "    .dataframe tbody tr th:only-of-type {\n",
       "        vertical-align: middle;\n",
       "    }\n",
       "\n",
       "    .dataframe tbody tr th {\n",
       "        vertical-align: top;\n",
       "    }\n",
       "\n",
       "    .dataframe thead th {\n",
       "        text-align: right;\n",
       "    }\n",
       "</style>\n",
       "<table border=\"1\" class=\"dataframe\">\n",
       "  <thead>\n",
       "    <tr style=\"text-align: right;\">\n",
       "      <th></th>\n",
       "      <th>x</th>\n",
       "    </tr>\n",
       "  </thead>\n",
       "  <tbody>\n",
       "    <tr>\n",
       "      <th>0</th>\n",
       "      <td>315.42</td>\n",
       "    </tr>\n",
       "    <tr>\n",
       "      <th>1</th>\n",
       "      <td>316.31</td>\n",
       "    </tr>\n",
       "    <tr>\n",
       "      <th>2</th>\n",
       "      <td>316.50</td>\n",
       "    </tr>\n",
       "    <tr>\n",
       "      <th>3</th>\n",
       "      <td>317.56</td>\n",
       "    </tr>\n",
       "    <tr>\n",
       "      <th>4</th>\n",
       "      <td>318.13</td>\n",
       "    </tr>\n",
       "  </tbody>\n",
       "</table>\n",
       "</div>"
      ],
      "text/plain": [
       "        x\n",
       "0  315.42\n",
       "1  316.31\n",
       "2  316.50\n",
       "3  317.56\n",
       "4  318.13"
      ]
     },
     "execution_count": 14,
     "metadata": {},
     "output_type": "execute_result"
    }
   ],
   "source": [
    "import pandas as pd\n",
    "import numpy as np\n",
    "import matplotlib.pyplot as plt\n",
    "co2 = pd.read_csv('data/co2.csv')\n",
    "co2.head()"
   ]
  },
  {
   "cell_type": "code",
   "execution_count": 16,
   "metadata": {},
   "outputs": [
    {
     "data": {
      "text/plain": [
       "[<matplotlib.lines.Line2D at 0x7f11a8f9fd00>]"
      ]
     },
     "execution_count": 16,
     "metadata": {},
     "output_type": "execute_result"
    },
    {
     "data": {
      "image/png": "[encoded data removed]",
      "text/plain": [
       "<Figure size 432x288 with 1 Axes>"
      ]
     },
     "metadata": {
      "needs_background": "light"
     },
     "output_type": "display_data"
    }
   ],
   "source": [
    "y = co2.x.to_numpy()\n",
    "x = np.arange(0,len(y))\n",
    "SSxy = np.sum(np.multiply(x - np.mean(x), y - np.mean(y)))\n",
    "SSxx = np.sum(np.multiply(x - np.mean(x), x - np.mean(x)))\n",
    "slope = SSxy/SSxx\n",
    "intercept = np.mean(y) - slope*np.mean(x)\n",
    "predicted = x*slope + intercept\n",
    "plt.plot(x,y)\n",
    "plt.plot(x, predicted)"
   ]
  },
  {
   "cell_type": "code",
   "execution_count": 17,
   "metadata": {},
   "outputs": [
    {
     "data": {
      "text/plain": [
       "(array([15., 32., 51., 71., 79., 83., 67., 35., 27.,  8.]),\n",
       " array([-6.03988546, -4.78441173, -3.52893799, -2.27346426, -1.01799053,\n",
       "         0.23748321,  1.49295694,  2.74843068,  4.00390441,  5.25937814,\n",
       "         6.51485188]),\n",
       " <BarContainer object of 10 artists>)"
      ]
     },
     "execution_count": 17,
     "metadata": {},
     "output_type": "execute_result"
    },
    {
     "data": {
      "image/png": "[encoded data removed]",
      "text/plain": [
       "<Figure size 432x288 with 1 Axes>"
      ]
     },
     "metadata": {
      "needs_background": "light"
     },
     "output_type": "display_data"
    }
   ],
   "source": [
    "residuals = y - predicted\n",
    "\n",
    "plt.hist(residuals)"
   ]
  }
 ],
 "metadata": {
  "kernelspec": {
   "display_name": "Python 3",
   "language": "python",
   "name": "python3"
  },
  "language_info": {
   "codemirror_mode": {
    "name": "ipython",
    "version": 3
   },
   "file_extension": ".py",
   "mimetype": "text/x-python",
   "name": "python",
   "nbconvert_exporter": "python",
   "pygments_lexer": "ipython3",
   "version": "3.8.5"
  }
 },
 "nbformat": 4,
 "nbformat_minor": 4
}
