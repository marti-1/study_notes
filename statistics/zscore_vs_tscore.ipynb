{
 "cells": [
  {
   "cell_type": "code",
   "execution_count": 62,
   "metadata": {},
   "outputs": [],
   "source": [
    "import numpy as np\n",
    "from scipy import stats\n",
    "\n",
    "N = 5000\n",
    "n = 2\n",
    "# 95% confidence\n",
    "mu = 2\n",
    "samples = np.random.normal(mu, .5, (N, n))\n",
    "\n",
    "mu_range = np.zeros((N,2))\n",
    "mu_est = np.mean(samples, axis = 1)\n",
    "s = np.std(samples, axis=1)/np.sqrt(n)"
   ]
  },
  {
   "cell_type": "code",
   "execution_count": 63,
   "metadata": {},
   "outputs": [
    {
     "data": {
      "text/plain": [
       "0.5994"
      ]
     },
     "execution_count": 63,
     "metadata": {},
     "output_type": "execute_result"
    }
   ],
   "source": [
    "z = st.norm.ppf(1-0.025)\n",
    "mu_range[:,0] = mu_est - z*s\n",
    "mu_range[:,1] = mu_est + z*s\n",
    "p_in_range = (mu_range[:,0] <= mu) & (mu <= mu_range[:,1])\n",
    "np.sum(p_in_range)/N"
   ]
  },
  {
   "cell_type": "code",
   "execution_count": 64,
   "metadata": {},
   "outputs": [
    {
     "data": {
      "text/plain": [
       "0.9326"
      ]
     },
     "execution_count": 64,
     "metadata": {},
     "output_type": "execute_result"
    }
   ],
   "source": [
    "t = stats.t.ppf(1-0.025, n-1)\n",
    "mu_range[:,0] = mu_est - t*s\n",
    "mu_range[:,1] = mu_est + t*s\n",
    "p_in_range = (mu_range[:,0] <= mu) & (mu <= mu_range[:,1])\n",
    "np.sum(p_in_range)/N"
   ]
  }
 ],
 "metadata": {
  "kernelspec": {
   "display_name": "Python 3",
   "language": "python",
   "name": "python3"
  },
  "language_info": {
   "codemirror_mode": {
    "name": "ipython",
    "version": 3
   },
   "file_extension": ".py",
   "mimetype": "text/x-python",
   "name": "python",
   "nbconvert_exporter": "python",
   "pygments_lexer": "ipython3",
   "version": "3.8.2"
  }
 },
 "nbformat": 4,
 "nbformat_minor": 4
}
