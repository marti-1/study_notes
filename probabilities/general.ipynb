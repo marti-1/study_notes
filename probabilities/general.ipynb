{
 "cells": [
  {
   "cell_type": "markdown",
   "metadata": {},
   "source": [
    "## Marginalization\n",
    "\n",
    "$$\n",
    "\\sum_i x_i \\sum_j P(x_i \\& y_j) = \\sum x_i P(x_i)\n",
    "$$"
   ]
  },
  {
   "cell_type": "markdown",
   "metadata": {},
   "source": [
    "|        | x1  | x2  | p_y(y) |\n",
    "|--------|-----|-----|--------|\n",
    "| y1     | 1/4 | 1/4 | 1/2    |\n",
    "| y2     | 1/4 | 1/4 | 1/2    |\n",
    "| p_x(x) | 1/2 | 1/2 | 2/2    |"
   ]
  },
  {
   "cell_type": "markdown",
   "metadata": {},
   "source": [
    "$$\n",
    "\\sum_i x_i \\sum_j P(x_i \\& y_j) \\\\\n",
    "= x_1 * (1/4 + 1/4) + x_2 * (1/4 + 1/4) \\\\\n",
    "= x_1 * P(x_1) + x_2 * P(x_2) \\\\\n",
    "= \\sum x_i P(x_i)\n",
    "$$"
   ]
  }
 ],
 "metadata": {
  "kernelspec": {
   "display_name": "Python 3",
   "language": "python",
   "name": "python3"
  },
  "language_info": {
   "codemirror_mode": {
    "name": "ipython",
    "version": 3
   },
   "file_extension": ".py",
   "mimetype": "text/x-python",
   "name": "python",
   "nbconvert_exporter": "python",
   "pygments_lexer": "ipython3",
   "version": "3.8.5"
  }
 },
 "nbformat": 4,
 "nbformat_minor": 4
}
