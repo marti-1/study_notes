{
 "cells": [
  {
   "cell_type": "markdown",
   "metadata": {},
   "source": [
    "# Integrals"
   ]
  },
  {
   "cell_type": "markdown",
   "metadata": {},
   "source": [
    "## u-substitution\n",
    "\n",
    "**Problem**\n",
    "\n",
    "$$\n",
    "\\int \\frac{x}{\\sqrt{x^2+1}}\n",
    "$$\n",
    "\n",
    "**Solution**\n",
    "\n",
    "Chain rule:\n",
    "\n",
    "$$\n",
    "\\frac{dy}{dx} = \\frac{dy}{du}\\frac{du}{dx}\n",
    "$$\n",
    "\n",
    "u-substitution is inverse of chain rule:\n",
    "\n",
    "$$\n",
    "\\begin{equation}\n",
    "\\begin{aligned}\n",
    "(\\sqrt{x^2 + 1})'\\Rightarrow y &= [\\sqrt{u}]', u=x^2+1 \\\\\n",
    "\\frac{dy}{du}\\frac{du}{dx} &= \\frac{1}{2}u^{-1/2} * 2x \\\\\n",
    "&= \\frac{1}{2}(x^2 + 1)^{-1/2} * 2x \\\\\n",
    "&= \\frac{x}{\\sqrt{x^2+1}}\n",
    "\\end{aligned}\n",
    "\\end{equation}\n",
    "$$\n",
    "\n",
    "now the inverse:\n",
    "\n"
   ]
  },
  {
   "cell_type": "markdown",
   "metadata": {},
   "source": [
    "* pick some possible \"u\" -- $u = x^2 + 1$\n",
    "* compute $\\frac{du}{dx} = 2x$\n",
    "* solve for $\\frac{dy}{du}$:\n",
    "\n",
    "$$\n",
    "\\frac{dy}{du} * 2x = \\frac{x}{u} \\\\\n",
    "\\frac{dy}{du} = \\frac{x}{u * 2x} \\\\\n",
    "\\frac{dy}{du} = \\frac{1}{2u} \\\\\n",
    "$$\n",
    "\n",
    "* integrate $\\frac{dy}{du}$ in order to get $y$:\n",
    "\n",
    "$$\n",
    "\\int \\frac{1}{2}(u)^{-1/2} = u^{1/2}\n",
    "$$\n",
    "\n",
    "* resubstitute \"u\":\n",
    "\n",
    "$$\n",
    "u^{1/2} = \\sqrt{x^2 + 1} + C\n",
    "$$"
   ]
  },
  {
   "cell_type": "markdown",
   "metadata": {},
   "source": [
    "**Problem**\n",
    "\n",
    "$$\n",
    "\\int 3x^2 e^{2x^3}dx\n",
    "$$\n",
    "\n",
    "**Solution**\n",
    "$$\n",
    "\\begin{equation}\n",
    "\\begin{aligned}\n",
    "u &= 2x^3 \\\\\n",
    "\\frac{du}{dx} &= 6x^2 \\\\\n",
    "\\frac{dy}{du} &= \\frac{3x^2e^u}{6x^2} = \\frac{1}{2}e^u \\\\\n",
    "y &= \\int{1}{2}e^u \\\\\n",
    "  &= \\frac{1}{2} \\int e^u \\\\\n",
    "  & = \\frac{1}{2} e^u \\\\\n",
    "  & = \\frac{1}{2} e^{2x^3}\n",
    "\\end{aligned}\n",
    "\\end{equation}\n",
    "$$\n",
    "\n",
    "$$\n",
    "\\int 3x^2 e^{2x^3}dx = \\frac{1}{2} e^{2x^3} + C\n",
    "$$"
   ]
  }
 ],
 "metadata": {
  "kernelspec": {
   "display_name": "Python 3",
   "language": "python",
   "name": "python3"
  },
  "language_info": {
   "codemirror_mode": {
    "name": "ipython",
    "version": 3
   },
   "file_extension": ".py",
   "mimetype": "text/x-python",
   "name": "python",
   "nbconvert_exporter": "python",
   "pygments_lexer": "ipython3",
   "version": "3.8.5"
  }
 },
 "nbformat": 4,
 "nbformat_minor": 4
}
