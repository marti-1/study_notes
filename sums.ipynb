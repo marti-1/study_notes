{
 "cells": [
  {
   "cell_type": "markdown",
   "metadata": {},
   "source": [
    "# Sums"
   ]
  },
  {
   "cell_type": "markdown",
   "metadata": {},
   "source": [
    "## Case 1\n",
    "\n",
    "$$\n",
    "\\sum_i \\sum_j [x_i*P(x_i \\& y_j) + y_j*P(x_i \\& y_j)] \\\\\n",
    "$$\n",
    "\n",
    "```python\n",
    "acc = 0\n",
    "for i in range(I):\n",
    "    for j in range(J):\n",
    "        acc += x[i]*P(x[i],y[j])\n",
    "        acc += y[j]*P(x[i],y[j])\n",
    "```\n",
    "\n",
    "$$\n",
    "\\sum_i x_i \\sum_j P(x_i \\& y_j) + \\sum_j y_j \\sum_i P(x_i \\& y_j)\n",
    "$$\n",
    "\n",
    "```python\n",
    "acc = 0\n",
    "for i in range(I):\n",
    "    for j in range(J):\n",
    "        t += x[i]*P(x[i],y[j])\n",
    "    acc += x[i] * t\n",
    "        \n",
    "for i in range(I):\n",
    "    for j in range(J):    \n",
    "        t += P(x[i],y[j])\n",
    "    acc += y[j]*t\n",
    "```"
   ]
  }
 ],
 "metadata": {
  "kernelspec": {
   "display_name": "Python 3",
   "language": "python",
   "name": "python3"
  },
  "language_info": {
   "codemirror_mode": {
    "name": "ipython",
    "version": 3
   },
   "file_extension": ".py",
   "mimetype": "text/x-python",
   "name": "python",
   "nbconvert_exporter": "python",
   "pygments_lexer": "ipython3",
   "version": "3.8.5"
  }
 },
 "nbformat": 4,
 "nbformat_minor": 4
}
