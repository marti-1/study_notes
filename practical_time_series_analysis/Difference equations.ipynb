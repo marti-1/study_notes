{
 "cells": [
  {
   "cell_type": "markdown",
   "metadata": {},
   "source": [
    "# Difference Equations\n",
    "\n",
    "$$\n",
    "\\begin{aligned}\n",
    "&a_{n}=4 a_{n-1}-3 a_{n-2}\\\\\n",
    "&a_{n}=\\lambda^{n} && \\text{create auxiliary equation}\\\\\n",
    "&x^{n}=4 \\lambda^{n-1}-3 x^{n-2} \\\\\n",
    "&\\lambda^{n}-4 x^{n-1}+3 \\lambda^{n-2}=0\\\\\n",
    "&\\lambda^{n}-4 x^{n-1}+3 x^{n-2}=0 && / x^{n-2}\\\\\n",
    "&\\lambda^{2}-4 x+3=0 && \\frac{\\lambda^{n}}{\\lambda^{n-2}}=\\lambda^{n-n+2}=\\lambda^{2}\\\\\n",
    "&\\lambda_{1}=1, \\quad \\lambda_{2}=3\\\\\n",
    "&a_{n}=c_{1} x_{1}^{n}+c_{2} \\lambda_{2}^{n} && \\text {since we have 2 roots a_n is a linear combination of them }\\\\\n",
    "&a_{n}=c_{1}+c_{2} 3^{n}\n",
    "\\end{aligned}\n",
    "$$\n",
    "Above can be solved with some initial values $a_{0}=2, a_{7}=-2$:\n",
    "$$\n",
    "\\begin{aligned}\n",
    "&\\left\\{\\begin{array}{l}\n",
    "c_{1}+c_{2} 3^{0}=2 \\\\\n",
    "c_{1}+c_{2} 3^{1}=-2\n",
    "\\end{array}\\right.\\\\\n",
    "&\\begin{array}{l}\n",
    "c_2=-2 \\\\\n",
    "c_{1}=4\n",
    "\\end{array}\\\\\n",
    "&a_{n}=4-2\\left(3^{n}\\right)\n",
    "\\end{aligned}\n",
    "$$"
   ]
  }
 ],
 "metadata": {
  "kernelspec": {
   "display_name": "Python 3",
   "language": "python",
   "name": "python3"
  },
  "language_info": {
   "codemirror_mode": {
    "name": "ipython",
    "version": 3
   },
   "file_extension": ".py",
   "mimetype": "text/x-python",
   "name": "python",
   "nbconvert_exporter": "python",
   "pygments_lexer": "ipython3",
   "version": "3.6.8"
  }
 },
 "nbformat": 4,
 "nbformat_minor": 4
}
