{
 "cells": [
  {
   "cell_type": "markdown",
   "metadata": {},
   "source": [
    "## Yule-Walker in matrix form\n",
    "\n",
    "$$\n",
    "\\begin{aligned}\n",
    "\\rho(k) = \\phi_1\\rho(k-1) + \\phi_2\\rho(k-2) + \\dots + \\phi_p\\rho(k-p) \\\\\n",
    "\\rho(1) = \\phi_1\\rho(0) + \\phi_2\\rho(-1) + \\dots + \\phi_p\\rho(1-p) \\\\\n",
    "\\rho(2) = \\phi_1\\rho(1) + \\phi_2\\rho(0) + \\dots + \\phi_p\\rho(2-p) \\\\\n",
    "\\dots\n",
    "\\end{aligned}\n",
    "$$\n",
    "\n",
    "Note:\n",
    "* $\\rho(-k) = \\rho(k)$\n",
    "* $\\rho(0) = 1$\n",
    "\n",
    "Matrix form:\n",
    "\n",
    "$$\n",
    "\\begin{bmatrix}\n",
    "\\ \\rho(1) \\\\\n",
    "\\ \\rho(2) \\\\ \n",
    "\\ \\rho(3) \\\\ \n",
    "\\ \\dots \\\n",
    "\\end{bmatrix}\n",
    "=\n",
    "\\begin{bmatrix}\n",
    "1 & \\rho(1) & \\dots & \\rho(p-1) \\\\ \n",
    "\\rho(1) & 1 & \\dots & \\rho(p-2) \\\\ \n",
    "\\rho(2) & \\rho(1) & \\dots & \\rho(p-3) \\\\ \n",
    "\\dots\n",
    "\\end{bmatrix}\n",
    "\\begin{bmatrix}\n",
    "\\ \\phi(1) \\\\\n",
    "\\ \\phi(2) \\\\ \n",
    "\\ \\phi(3) \\\\ \n",
    "\\ \\dots \\\n",
    "\\end{bmatrix}\n",
    "$$\n",
    "\n",
    "$$\n",
    "\\hat{\\rho} = R\\hat{\\phi} \\\\\n",
    "R^{-1}\\hat{\\rho} = \\hat{\\phi}\n",
    "$$"
   ]
  },
  {
   "cell_type": "markdown",
   "metadata": {},
   "source": [
    "**Problem**\n",
    "\n",
    "Sample autocorrelation coefficients of an AR(3) process are given: $r_1=0.8, r_2=0.6, r_3=0.2$ Use Yule-Walker equations in matrix form to estimate model parameters $\\hat{\\phi}_1,  \\hat{\\phi}_2, \\hat{\\phi}_3$."
   ]
  },
  {
   "cell_type": "code",
   "execution_count": 14,
   "metadata": {},
   "outputs": [
    {
     "ename": "ERROR",
     "evalue": "Error in solve.default(A, b): 'a' must be a numeric matrix\n",
     "output_type": "error",
     "traceback": [
      "Error in solve.default(A, b): 'a' must be a numeric matrix\nTraceback:\n",
      "1. solve(A, b)",
      "2. solve.default(A, b)"
     ]
    }
   ],
   "source": [
    "A = matrix(list(\n",
    "    c(1.0, .8, .6),\n",
    "    c(.8, 1.0, .8),\n",
    "    c(.6, .8, 1.0)\n",
    "))\n",
    "b = as.matrix(c(.8, .6, .2),3,1)\n",
    "x = solve(A,b)\n",
    "x # should be [ 0.8125,  0.5   , -0.6875], code does not work though, but this is syntax issue"
   ]
  },
  {
   "cell_type": "markdown",
   "metadata": {},
   "source": [
    "## $\\sigma_Z$ estimation\n",
    "\n",
    "$$\n",
    "\\sigma_Z^2 = c_0*(1- \\sum \\phi_i r_i)\n",
    "$$\n",
    "\n",
    "where $c_0$ is autocovariance at lag 0 (so basically variance).\n",
    "\n",
    "R code:\n",
    "\n",
    "```R\n",
    "c0=acf(ar.process, type='covariance', plot=F)$acf[1]\n",
    "var.hat=c0*(1-sum(phi.hat*r))\n",
    "var.hat\n",
    "```"
   ]
  },
  {
   "cell_type": "markdown",
   "metadata": {},
   "source": [
    "**Problem**\n",
    "\n",
    "Use Question 2 information and the fact that sample autocovariance at lag 0, $c(0)=5$."
   ]
  },
  {
   "cell_type": "code",
   "execution_count": 15,
   "metadata": {},
   "outputs": [
    {
     "ename": "ERROR",
     "evalue": "Error in eval(expr, envir, enclos): object 'x' not found\n",
     "output_type": "error",
     "traceback": [
      "Error in eval(expr, envir, enclos): object 'x' not found\nTraceback:\n"
     ]
    }
   ],
   "source": [
    "5*(1-sum(x*b))"
   ]
  },
  {
   "cell_type": "markdown",
   "metadata": {},
   "source": [
    "### Model\n",
    "\n",
    "Note, we first need to subtract $\\mu$ of X from $X_t$ in order to solve with Yule-Walker equations, so our model becomes:\n",
    "\n",
    "$$\n",
    "X_t = \\phi_1 X_{t-1} + \\phi_2 X_{t-2} + \\dots + \\phi_p X_{t-p} + Z_t \\\\\n",
    "X_t - \\bar{x} = \\phi_1 (X_{t-1} - \\bar{x}) + \\phi_2 (X_{t-2} - \\bar{x}) + \\dots + \\phi_p (X_{t-p} - \\bar{x}) + Z_t \\\\\n",
    "X_t = \\phi_1 X_{t-1} \\dots - \\phi_1 \\bar{x} - \\dots + \\bar{x} + Z_t \\\\\n",
    "X_t = \\phi_1 X_{t-1} \\dots + \\bar{x} - \\bar{x}\\sum \\phi_i + Z_t \\\\\n",
    "X_t = \\phi_1 X_{t-1} \\dots + \\bar{x} (1 - \\sum \\phi_i) + Z_t\n",
    "$$\n",
    "\n",
    "we take out $\\bar{x} (1 - \\sum \\phi_i) = \\phi_0$ and our final model with its original mean _restored_ becomes:\n",
    "\n",
    "$$\n",
    "X_t = \\phi_1 X_{t-1} \\dots + \\phi_0 + Z_t\n",
    "$$"
   ]
  },
  {
   "cell_type": "code",
   "execution_count": 16,
   "metadata": {},
   "outputs": [
    {
     "data": {
      "image/png": "[encoded data removed]",
      "text/plain": [
       "Plot with title \"Johnson&Johnosn earnings per share\""
      ]
     },
     "metadata": {
      "image/png": {
       "height": 420,
       "width": 420
      }
     },
     "output_type": "display_data"
    }
   ],
   "source": [
    "plot(JohnsonJohnson, main='Johnson&Johnosn earnings per share', col='blue', lwd=3)"
   ]
  },
  {
   "cell_type": "markdown",
   "metadata": {},
   "source": [
    "It clearly has a trend in mean and variance. So it is not stationary. We have to transform it first with log return function:\n",
    "\n",
    "$$\n",
    "r_t = \\log(\\frac{X_t}{X_{t-1}}) = \\log(X_t) - \\log(X_{t-1})\n",
    "$$"
   ]
  },
  {
   "cell_type": "code",
   "execution_count": 19,
   "metadata": {},
   "outputs": [
    {
     "data": {
      "image/png": "[encoded data removed]",
      "text/plain": [
       "Plot with title \"PACF\""
      ]
     },
     "metadata": {
      "image/png": {
       "height": 420,
       "width": 420
      }
     },
     "output_type": "display_data"
    }
   ],
   "source": [
    "jj.log.return=diff(log(JohnsonJohnson))\n",
    "jj.log.return.mean.zero=jj.log.return-mean(jj.log.return)\n",
    "\n",
    "# Plots for log-returns\n",
    "par(mfrow=c(3,1))\n",
    "plot(jj.log.return.mean.zero, main='Log-return (mean zero) of Johnson&Johnosn earnings per share')\n",
    "acf(jj.log.return.mean.zero, main='ACF')\n",
    "pacf(jj.log.return.mean.zero, main='PACF')"
   ]
  },
  {
   "cell_type": "markdown",
   "metadata": {},
   "source": [
    "From PACF we can see that after lag 4, there are no significant lags, so this suggest that we can fit AR(4) model."
   ]
  },
  {
   "cell_type": "code",
   "execution_count": 20,
   "metadata": {},
   "outputs": [
    {
     "data": {
      "text/html": [
       "<style>\n",
       ".list-inline {list-style: none; margin:0; padding: 0}\n",
       ".list-inline>li {display: inline-block}\n",
       ".list-inline>li:not(:last-child)::after {content: \"\\00b7\"; padding: 0 .5ex}\n",
       "</style>\n",
       "<ol class=list-inline><li>-0.506817600046513</li><li>0.0671008385072088</li><li>-0.402836036322625</li><li>0.731447804138696</li></ol>\n"
      ],
      "text/latex": [
       "\\begin{enumerate*}\n",
       "\\item -0.506817600046513\n",
       "\\item 0.0671008385072088\n",
       "\\item -0.402836036322625\n",
       "\\item 0.731447804138696\n",
       "\\end{enumerate*}\n"
      ],
      "text/markdown": [
       "1. -0.506817600046513\n",
       "2. 0.0671008385072088\n",
       "3. -0.402836036322625\n",
       "4. 0.731447804138696\n",
       "\n",
       "\n"
      ],
      "text/plain": [
       "[1] -0.50681760  0.06710084 -0.40283604  0.73144780"
      ]
     },
     "metadata": {},
     "output_type": "display_data"
    }
   ],
   "source": [
    "# Order\n",
    "p=4\n",
    "# sample autocorreleation function r\n",
    "r=NULL\n",
    "r[1:p]=acf(jj.log.return.mean.zero, plot=F)$acf[2:(p+1)]\n",
    "r"
   ]
  },
  {
   "cell_type": "code",
   "execution_count": 21,
   "metadata": {},
   "outputs": [
    {
     "data": {
      "text/html": [
       "<table>\n",
       "<caption>A matrix: 4 × 4 of type dbl</caption>\n",
       "<tbody>\n",
       "\t<tr><td> 1.00000000</td><td>-0.50681760</td><td> 0.06710084</td><td>-0.40283604</td></tr>\n",
       "\t<tr><td>-0.50681760</td><td> 1.00000000</td><td>-0.50681760</td><td> 0.06710084</td></tr>\n",
       "\t<tr><td> 0.06710084</td><td>-0.50681760</td><td> 1.00000000</td><td>-0.50681760</td></tr>\n",
       "\t<tr><td>-0.40283604</td><td> 0.06710084</td><td>-0.50681760</td><td> 1.00000000</td></tr>\n",
       "</tbody>\n",
       "</table>\n"
      ],
      "text/latex": [
       "A matrix: 4 × 4 of type dbl\n",
       "\\begin{tabular}{llll}\n",
       "\t  1.00000000 & -0.50681760 &  0.06710084 & -0.40283604\\\\\n",
       "\t -0.50681760 &  1.00000000 & -0.50681760 &  0.06710084\\\\\n",
       "\t  0.06710084 & -0.50681760 &  1.00000000 & -0.50681760\\\\\n",
       "\t -0.40283604 &  0.06710084 & -0.50681760 &  1.00000000\\\\\n",
       "\\end{tabular}\n"
      ],
      "text/markdown": [
       "\n",
       "A matrix: 4 × 4 of type dbl\n",
       "\n",
       "|  1.00000000 | -0.50681760 |  0.06710084 | -0.40283604 |\n",
       "| -0.50681760 |  1.00000000 | -0.50681760 |  0.06710084 |\n",
       "|  0.06710084 | -0.50681760 |  1.00000000 | -0.50681760 |\n",
       "| -0.40283604 |  0.06710084 | -0.50681760 |  1.00000000 |\n",
       "\n"
      ],
      "text/plain": [
       "     [,1]        [,2]        [,3]        [,4]       \n",
       "[1,]  1.00000000 -0.50681760  0.06710084 -0.40283604\n",
       "[2,] -0.50681760  1.00000000 -0.50681760  0.06710084\n",
       "[3,]  0.06710084 -0.50681760  1.00000000 -0.50681760\n",
       "[4,] -0.40283604  0.06710084 -0.50681760  1.00000000"
      ]
     },
     "metadata": {},
     "output_type": "display_data"
    }
   ],
   "source": [
    "# matrix R\n",
    "R=matrix(1,p,p) # matrix of dimension 4 by 4, with entries all 1's.\n",
    "\n",
    "# define non-diagonal entires of R\n",
    "for(i in 1:p){\n",
    "\tfor(j in 1:p){\n",
    "\t\tif(i!=j)\n",
    "\t\t\tR[i,j]=r[abs(i-j)]\n",
    "\t\t}\n",
    "\t}\n",
    "R"
   ]
  },
  {
   "cell_type": "code",
   "execution_count": 22,
   "metadata": {},
   "outputs": [
    {
     "data": {
      "text/html": [
       "<table>\n",
       "<caption>A matrix: 4 × 1 of type dbl</caption>\n",
       "<tbody>\n",
       "\t<tr><td>-0.50681760</td></tr>\n",
       "\t<tr><td> 0.06710084</td></tr>\n",
       "\t<tr><td>-0.40283604</td></tr>\n",
       "\t<tr><td> 0.73144780</td></tr>\n",
       "</tbody>\n",
       "</table>\n"
      ],
      "text/latex": [
       "A matrix: 4 × 1 of type dbl\n",
       "\\begin{tabular}{l}\n",
       "\t -0.50681760\\\\\n",
       "\t  0.06710084\\\\\n",
       "\t -0.40283604\\\\\n",
       "\t  0.73144780\\\\\n",
       "\\end{tabular}\n"
      ],
      "text/markdown": [
       "\n",
       "A matrix: 4 × 1 of type dbl\n",
       "\n",
       "| -0.50681760 |\n",
       "|  0.06710084 |\n",
       "| -0.40283604 |\n",
       "|  0.73144780 |\n",
       "\n"
      ],
      "text/plain": [
       "     [,1]       \n",
       "[1,] -0.50681760\n",
       "[2,]  0.06710084\n",
       "[3,] -0.40283604\n",
       "[4,]  0.73144780"
      ]
     },
     "metadata": {},
     "output_type": "display_data"
    }
   ],
   "source": [
    "# b-column vector on the right\n",
    "b=matrix(r,p,1)# b- column vector with no entries\n",
    "b"
   ]
  },
  {
   "cell_type": "code",
   "execution_count": 23,
   "metadata": {},
   "outputs": [
    {
     "data": {
      "text/html": [
       "<style>\n",
       ".list-inline {list-style: none; margin:0; padding: 0}\n",
       ".list-inline>li {display: inline-block}\n",
       ".list-inline>li:not(:last-child)::after {content: \"\\00b7\"; padding: 0 .5ex}\n",
       "</style>\n",
       "<ol class=list-inline><li>-0.629349240726127</li><li>-0.51715263230406</li><li>-0.488337379525746</li><li>0.2651266471015</li></ol>\n"
      ],
      "text/latex": [
       "\\begin{enumerate*}\n",
       "\\item -0.629349240726127\n",
       "\\item -0.51715263230406\n",
       "\\item -0.488337379525746\n",
       "\\item 0.2651266471015\n",
       "\\end{enumerate*}\n"
      ],
      "text/markdown": [
       "1. -0.629349240726127\n",
       "2. -0.51715263230406\n",
       "3. -0.488337379525746\n",
       "4. 0.2651266471015\n",
       "\n",
       "\n"
      ],
      "text/plain": [
       "[1] -0.6293492 -0.5171526 -0.4883374  0.2651266"
      ]
     },
     "metadata": {},
     "output_type": "display_data"
    }
   ],
   "source": [
    "phi.hat=solve(R,b)[,1]\n",
    "phi.hat"
   ]
  },
  {
   "cell_type": "code",
   "execution_count": 24,
   "metadata": {},
   "outputs": [
    {
     "data": {
      "text/html": [
       "0.0436569182631469"
      ],
      "text/latex": [
       "0.0436569182631469"
      ],
      "text/markdown": [
       "0.0436569182631469"
      ],
      "text/plain": [
       "[1] 0.04365692"
      ]
     },
     "metadata": {},
     "output_type": "display_data"
    },
    {
     "data": {
      "text/html": [
       "0.0141924234234426"
      ],
      "text/latex": [
       "0.0141924234234426"
      ],
      "text/markdown": [
       "0.0141924234234426"
      ],
      "text/plain": [
       "[1] 0.01419242"
      ]
     },
     "metadata": {},
     "output_type": "display_data"
    }
   ],
   "source": [
    "# Variance estimation using Yule-Walker Estimator\n",
    "c0=acf(jj.log.return.mean.zero, type='covariance', plot=F)$acf[1]\n",
    "c0\n",
    "var.hat=c0*(1-sum(phi.hat*r))\n",
    "var.hat"
   ]
  },
  {
   "cell_type": "code",
   "execution_count": 25,
   "metadata": {},
   "outputs": [
    {
     "data": {
      "text/html": [
       "0.0797810030728414"
      ],
      "text/latex": [
       "0.0797810030728414"
      ],
      "text/markdown": [
       "0.0797810030728414"
      ],
      "text/plain": [
       "[1] 0.079781"
      ]
     },
     "metadata": {},
     "output_type": "display_data"
    }
   ],
   "source": [
    "# Constant term in the model\n",
    "phi0.hat=mean(jj.log.return)*(1-sum(phi.hat))\n",
    "phi0.hat"
   ]
  },
  {
   "cell_type": "code",
   "execution_count": 26,
   "metadata": {},
   "outputs": [
    {
     "name": "stdout",
     "output_type": "stream",
     "text": [
      "Constant: 0.079781  Coeffcinets: -0.6293492 -0.5171526 -0.4883374 0.2651266  and Variance: 0.01419242 \n"
     ]
    }
   ],
   "source": [
    "cat(\"Constant:\", phi0.hat,\" Coeffcinets:\", phi.hat, \" and Variance:\", var.hat, '\\n')"
   ]
  }
 ],
 "metadata": {
  "kernelspec": {
   "display_name": "R",
   "language": "R",
   "name": "ir"
  },
  "language_info": {
   "codemirror_mode": "r",
   "file_extension": ".r",
   "mimetype": "text/x-r-source",
   "name": "R",
   "pygments_lexer": "r",
   "version": "4.0.3"
  }
 },
 "nbformat": 4,
 "nbformat_minor": 4
}
