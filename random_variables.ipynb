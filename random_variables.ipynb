{
 "cells": [
  {
   "cell_type": "code",
   "execution_count": 2,
   "metadata": {},
   "outputs": [],
   "source": [
    "import numpy as np\n",
    "import matplotlib.pyplot as plt"
   ]
  },
  {
   "cell_type": "code",
   "execution_count": 13,
   "metadata": {},
   "outputs": [
    {
     "data": {
      "image/png": "[encoded data removed]",
      "text/plain": [
       "<Figure size 432x288 with 1 Axes>"
      ]
     },
     "metadata": {
      "needs_background": "light"
     },
     "output_type": "display_data"
    }
   ],
   "source": [
    "dog_var = 4\n",
    "cat_var = 1\n",
    "n_dogs = np.random.normal(10, np.sqrt(dog_var), 1000)\n",
    "n_cats = np.random.normal(3, np.sqrt(cat_var), 1000)\n",
    "\n",
    "plt.hist(n_dogs, 50)\n",
    "plt.hist(n_cats, 50)\n",
    "plt.axvline(x=3, linestyle='--', color='k')\n",
    "plt.axvline(x=10, linestyle='--', color='k')\n",
    "plt.show()"
   ]
  },
  {
   "cell_type": "code",
   "execution_count": 14,
   "metadata": {},
   "outputs": [
    {
     "data": {
      "image/png": "[encoded data removed]",
      "text/plain": [
       "<Figure size 432x288 with 1 Axes>"
      ]
     },
     "metadata": {
      "needs_background": "light"
     },
     "output_type": "display_data"
    }
   ],
   "source": [
    "n_dogs_cats = n_dogs + n_cats\n",
    "plt.hist(n_dogs_cats, 50)\n",
    "plt.axvline(x=13, linestyle='--', color='k')\n",
    "plt.show()"
   ]
  },
  {
   "cell_type": "code",
   "execution_count": 23,
   "metadata": {},
   "outputs": [
    {
     "data": {
      "text/plain": [
       "13.012970063922698"
      ]
     },
     "execution_count": 23,
     "metadata": {},
     "output_type": "execute_result"
    }
   ],
   "source": [
    "np.mean(n_dogs_cats)"
   ]
  },
  {
   "cell_type": "markdown",
   "metadata": {},
   "source": [
    "## Adding means"
   ]
  },
  {
   "cell_type": "markdown",
   "metadata": {},
   "source": [
    "$$\n",
    "\\begin{equation}\n",
    "E[X + Y] = \\sum_i \\sum_j (x_i + y_j)*P(x_i \\& y_j) \\\\\n",
    " = \\sum_i \\sum_j [x_i*P(x_i \\& y_j) + y_j*P(x_i \\& y_j)] \\\\\n",
    " = \\sum_i x_i \\sum_j P(x_i \\& y_j) + \\sum_j y_j \\sum_i P(x_i \\& y_j) \\\\\n",
    " = \\sum_i x_i P(x_i) + \\sum_j y_j P(y_j) \\\\\n",
    " = E[X] + E[Y] \\\\\n",
    "\\end{equation}\n",
    "$$"
   ]
  },
  {
   "cell_type": "markdown",
   "metadata": {},
   "source": [
    "## Variance"
   ]
  },
  {
   "cell_type": "markdown",
   "metadata": {},
   "source": [
    "$$\n",
    "\\begin{equation}\n",
    "\\text{Var}(X) = E[(X - E[X])^2] \\\\\n",
    "= E[X^2 - 2*X*E[X] + E[X]^2] \\\\\n",
    "= E[X^2] - 2 * E[X * E[X]] + E[X]^2 \\\\\n",
    "= E[X^2] - 2*E[X]E[X] + E[X]^2 \\\\\n",
    "= E[X^2] - E[X]^2\n",
    "\\end{equation}\n",
    "$$"
   ]
  },
  {
   "cell_type": "markdown",
   "metadata": {},
   "source": [
    "## Adding variances\n",
    "\n",
    "$$\n",
    "\\begin{equation}\n",
    "\\text{Var}(X + Y) = E[[(X + Y) - E[X + Y])^2] \\\\\n",
    "= E[(X+Y) - E[X] - E[Y])^2] \\\\\n",
    "= E[(X - E[X] + Y - E[Y])^2] \\\\\n",
    "= E[(X - E[X])^2 + 2 * (X - E[X])(Y-E[Y])+(Y-E[Y])^2] \\\\\n",
    "= E[(X - E[X])^2] + \\textbf{E[2 * (X - E[X])(Y-E[Y])]} + E[(Y-E[Y])^2] \\\\\n",
    "= E[(X - E[X])^2] + \\textbf{2*Cov(X,Y)} + E[(Y-E[Y])^2]  \\\\\n",
    "= \\text{Var}(X) + \\text{Var}(Y) + 2\\text{Cov}(X,Y)\n",
    "\\end{equation}\n",
    "$$\n",
    "\n",
    "if two variables are independent, their covariance is 0, ergo the above simplifies to:\n",
    "$$\\text{Var}(X + Y) = \\text{Var}(X) + \\text{Var}(Y)$$"
   ]
  },
  {
   "cell_type": "code",
   "execution_count": 22,
   "metadata": {},
   "outputs": [
    {
     "data": {
      "text/plain": [
       "4.9459792301554435"
      ]
     },
     "execution_count": 22,
     "metadata": {},
     "output_type": "execute_result"
    }
   ],
   "source": [
    "np.var(n_dogs_cats)"
   ]
  },
  {
   "cell_type": "markdown",
   "metadata": {},
   "source": [
    "## Covariance"
   ]
  },
  {
   "cell_type": "markdown",
   "metadata": {},
   "source": [
    "$$\n",
    "\\begin{equation}\n",
    "\\text{Cov}(X,Y) = E[(X - E[X])(Y - E[Y])] \\\\\n",
    "= E[XY - XE[Y] - E[X]Y + E[X]E[Y]] \\\\\n",
    "= E[XY] - E[XE[Y]] - E[E[X]Y] + E[X]E[Y] \\\\\n",
    "= E[XY] - E[X]E[Y]\n",
    "\\end{equation}\n",
    "$$"
   ]
  },
  {
   "cell_type": "markdown",
   "metadata": {},
   "source": [
    "A covariance is computed from the sum of the cross-products of the deviations from each variables mean. This is not normalized measure in terms of std of the variables. A normalized version of this would be correlation:\n",
    "\n",
    "$$\n",
    "\\begin{equation}\n",
    "r = \\frac{\\frac{1}{n-1}\\sum_i^n(X_i - E[X])(Y_i - E[Y])}{S_xS_y} \\\\\n",
    "= \\frac{1}{n-1}\\sum_i^n(\\frac{X_i - E[X]}{S_x})(\\frac{Y_i - E[Y]}{S_y})\n",
    "\\end{equation}\n",
    "$$"
   ]
  },
  {
   "cell_type": "markdown",
   "metadata": {},
   "source": [
    "## Binomial random variables\n",
    "\n",
    "### Mean\n",
    "\n",
    "$$\n",
    "\\mu = 1 * P(X=1) + 0 * P(X=0)\\\\\n",
    "= P(X=1) \\\\\n",
    "= p\n",
    "$$\n",
    "\n",
    "### Variance\n",
    "\n",
    "$$\n",
    "\\text{Var}(X) = P(X=1)(1 - \\mu)^2 + P(X = 0)(0 - \\mu)^2 \\\\\n",
    "= p(1 - \\mu)^2 + (1 - p)(0 - \\mu)^2 \\\\\n",
    "= p(1 - p)^2 + (1 - p)p^2 \\\\\n",
    "= p(1 - p)(1 - p  + p) \\\\\n",
    "= p(1 - p) \n",
    "$$"
   ]
  }
 ],
 "metadata": {
  "kernelspec": {
   "display_name": "Python 3",
   "language": "python",
   "name": "python3"
  },
  "language_info": {
   "codemirror_mode": {
    "name": "ipython",
    "version": 3
   },
   "file_extension": ".py",
   "mimetype": "text/x-python",
   "name": "python",
   "nbconvert_exporter": "python",
   "pygments_lexer": "ipython3",
   "version": "3.9.0"
  }
 },
 "nbformat": 4,
 "nbformat_minor": 4
}
